{
 "cells": [
  {
   "cell_type": "markdown",
   "metadata": {},
   "source": [
    "# Bonus: Temperature Analysis I"
   ]
  },
  {
   "cell_type": "code",
   "execution_count": 1,
   "metadata": {},
   "outputs": [],
   "source": [
    "import pandas as pd\n",
    "from datetime import datetime as dt"
   ]
  },
  {
   "cell_type": "code",
   "execution_count": 2,
   "metadata": {},
   "outputs": [
    {
     "output_type": "execute_result",
     "data": {
      "text/plain": [
       "       station        date  prcp  tobs\n",
       "0  USC00519397  2010-01-01  0.08    65\n",
       "1  USC00519397  2010-01-02  0.00    63\n",
       "2  USC00519397  2010-01-03  0.00    74\n",
       "3  USC00519397  2010-01-04  0.00    76\n",
       "4  USC00519397  2010-01-06   NaN    73"
      ],
      "text/html": "<div>\n<style scoped>\n    .dataframe tbody tr th:only-of-type {\n        vertical-align: middle;\n    }\n\n    .dataframe tbody tr th {\n        vertical-align: top;\n    }\n\n    .dataframe thead th {\n        text-align: right;\n    }\n</style>\n<table border=\"1\" class=\"dataframe\">\n  <thead>\n    <tr style=\"text-align: right;\">\n      <th></th>\n      <th>station</th>\n      <th>date</th>\n      <th>prcp</th>\n      <th>tobs</th>\n    </tr>\n  </thead>\n  <tbody>\n    <tr>\n      <th>0</th>\n      <td>USC00519397</td>\n      <td>2010-01-01</td>\n      <td>0.08</td>\n      <td>65</td>\n    </tr>\n    <tr>\n      <th>1</th>\n      <td>USC00519397</td>\n      <td>2010-01-02</td>\n      <td>0.00</td>\n      <td>63</td>\n    </tr>\n    <tr>\n      <th>2</th>\n      <td>USC00519397</td>\n      <td>2010-01-03</td>\n      <td>0.00</td>\n      <td>74</td>\n    </tr>\n    <tr>\n      <th>3</th>\n      <td>USC00519397</td>\n      <td>2010-01-04</td>\n      <td>0.00</td>\n      <td>76</td>\n    </tr>\n    <tr>\n      <th>4</th>\n      <td>USC00519397</td>\n      <td>2010-01-06</td>\n      <td>NaN</td>\n      <td>73</td>\n    </tr>\n  </tbody>\n</table>\n</div>"
     },
     "metadata": {},
     "execution_count": 2
    }
   ],
   "source": [
    "# \"tobs\" is \"temperature observations\"\n",
    "df = pd.read_csv('Resources/hawaii_measurements.csv')\n",
    "df.head()"
   ]
  },
  {
   "cell_type": "code",
   "execution_count": 3,
   "metadata": {},
   "outputs": [
    {
     "output_type": "execute_result",
     "data": {
      "text/plain": [
       "       station       date  prcp  tobs\n",
       "0  USC00519397 2010-01-01  0.08    65\n",
       "1  USC00519397 2010-01-02  0.00    63\n",
       "2  USC00519397 2010-01-03  0.00    74\n",
       "3  USC00519397 2010-01-04  0.00    76\n",
       "4  USC00519397 2010-01-06   NaN    73"
      ],
      "text/html": "<div>\n<style scoped>\n    .dataframe tbody tr th:only-of-type {\n        vertical-align: middle;\n    }\n\n    .dataframe tbody tr th {\n        vertical-align: top;\n    }\n\n    .dataframe thead th {\n        text-align: right;\n    }\n</style>\n<table border=\"1\" class=\"dataframe\">\n  <thead>\n    <tr style=\"text-align: right;\">\n      <th></th>\n      <th>station</th>\n      <th>date</th>\n      <th>prcp</th>\n      <th>tobs</th>\n    </tr>\n  </thead>\n  <tbody>\n    <tr>\n      <th>0</th>\n      <td>USC00519397</td>\n      <td>2010-01-01</td>\n      <td>0.08</td>\n      <td>65</td>\n    </tr>\n    <tr>\n      <th>1</th>\n      <td>USC00519397</td>\n      <td>2010-01-02</td>\n      <td>0.00</td>\n      <td>63</td>\n    </tr>\n    <tr>\n      <th>2</th>\n      <td>USC00519397</td>\n      <td>2010-01-03</td>\n      <td>0.00</td>\n      <td>74</td>\n    </tr>\n    <tr>\n      <th>3</th>\n      <td>USC00519397</td>\n      <td>2010-01-04</td>\n      <td>0.00</td>\n      <td>76</td>\n    </tr>\n    <tr>\n      <th>4</th>\n      <td>USC00519397</td>\n      <td>2010-01-06</td>\n      <td>NaN</td>\n      <td>73</td>\n    </tr>\n  </tbody>\n</table>\n</div>"
     },
     "metadata": {},
     "execution_count": 3
    }
   ],
   "source": [
    "# Convert the date column format from string to datetime\n",
    "df['date']=pd.to_datetime(df['date'])\n",
    "df.head()"
   ]
  },
  {
   "cell_type": "code",
   "execution_count": 6,
   "metadata": {},
   "outputs": [
    {
     "output_type": "execute_result",
     "data": {
      "text/plain": [
       "                station  prcp  tobs\n",
       "date                               \n",
       "2010-01-01  USC00519397  0.08    65\n",
       "2010-01-02  USC00519397  0.00    63\n",
       "2010-01-03  USC00519397  0.00    74\n",
       "2010-01-04  USC00519397  0.00    76\n",
       "2010-01-06  USC00519397   NaN    73"
      ],
      "text/html": "<div>\n<style scoped>\n    .dataframe tbody tr th:only-of-type {\n        vertical-align: middle;\n    }\n\n    .dataframe tbody tr th {\n        vertical-align: top;\n    }\n\n    .dataframe thead th {\n        text-align: right;\n    }\n</style>\n<table border=\"1\" class=\"dataframe\">\n  <thead>\n    <tr style=\"text-align: right;\">\n      <th></th>\n      <th>station</th>\n      <th>prcp</th>\n      <th>tobs</th>\n    </tr>\n    <tr>\n      <th>date</th>\n      <th></th>\n      <th></th>\n      <th></th>\n    </tr>\n  </thead>\n  <tbody>\n    <tr>\n      <th>2010-01-01</th>\n      <td>USC00519397</td>\n      <td>0.08</td>\n      <td>65</td>\n    </tr>\n    <tr>\n      <th>2010-01-02</th>\n      <td>USC00519397</td>\n      <td>0.00</td>\n      <td>63</td>\n    </tr>\n    <tr>\n      <th>2010-01-03</th>\n      <td>USC00519397</td>\n      <td>0.00</td>\n      <td>74</td>\n    </tr>\n    <tr>\n      <th>2010-01-04</th>\n      <td>USC00519397</td>\n      <td>0.00</td>\n      <td>76</td>\n    </tr>\n    <tr>\n      <th>2010-01-06</th>\n      <td>USC00519397</td>\n      <td>NaN</td>\n      <td>73</td>\n    </tr>\n  </tbody>\n</table>\n</div>"
     },
     "metadata": {},
     "execution_count": 6
    }
   ],
   "source": [
    "# Set the date column as the DataFrame index\n",
    "# df=df.set_index('date')\n",
    "# df.head()"
   ]
  },
  {
   "cell_type": "code",
   "execution_count": null,
   "metadata": {},
   "outputs": [],
   "source": [
    "# Drop the date column"
   ]
  },
  {
   "cell_type": "markdown",
   "metadata": {},
   "source": [
    "### Compare June and December data across all years "
   ]
  },
  {
   "cell_type": "code",
   "execution_count": 4,
   "metadata": {},
   "outputs": [],
   "source": [
    "from scipy import stats"
   ]
  },
  {
   "cell_type": "code",
   "execution_count": 6,
   "metadata": {},
   "outputs": [
    {
     "output_type": "execute_result",
     "data": {
      "text/plain": [
       "         station       date  prcp  tobs\n",
       "133  USC00519397 2010-06-01  0.00    78\n",
       "134  USC00519397 2010-06-02  0.01    76\n",
       "135  USC00519397 2010-06-03  0.00    78\n",
       "136  USC00519397 2010-06-04  0.00    76\n",
       "137  USC00519397 2010-06-05  0.00    77\n",
       "138  USC00519397 2010-06-06  0.00    78\n",
       "139  USC00519397 2010-06-07  0.00    77\n",
       "140  USC00519397 2010-06-08  0.00    78\n",
       "141  USC00519397 2010-06-09  0.00    78\n",
       "142  USC00519397 2010-06-10  0.00    79\n",
       "143  USC00519397 2010-06-11  0.00    78\n",
       "144  USC00519397 2010-06-12  0.00    78\n",
       "145  USC00519397 2010-06-13  0.00    78\n",
       "146  USC00519397 2010-06-14  0.00    77\n",
       "147  USC00519397 2010-06-15  0.00    78\n",
       "148  USC00519397 2010-06-16  0.00    78\n",
       "149  USC00519397 2010-06-17  0.00    77\n",
       "150  USC00519397 2010-06-18  0.00    77\n",
       "151  USC00519397 2010-06-19  0.00    82\n",
       "152  USC00519397 2010-06-20  0.00    78\n",
       "153  USC00519397 2010-06-21  0.00    78\n",
       "154  USC00519397 2010-06-22  0.00    78\n",
       "155  USC00519397 2010-06-23  0.00    78\n",
       "156  USC00519397 2010-06-24  0.00    78\n",
       "157  USC00519397 2010-06-25  0.00    77\n",
       "158  USC00519397 2010-06-26  0.02    76\n",
       "159  USC00519397 2010-06-27  0.00    78\n",
       "160  USC00519397 2010-06-28  0.00    78\n",
       "161  USC00519397 2010-06-29  0.00    78\n",
       "162  USC00519397 2010-06-30  0.00    78"
      ],
      "text/html": "<div>\n<style scoped>\n    .dataframe tbody tr th:only-of-type {\n        vertical-align: middle;\n    }\n\n    .dataframe tbody tr th {\n        vertical-align: top;\n    }\n\n    .dataframe thead th {\n        text-align: right;\n    }\n</style>\n<table border=\"1\" class=\"dataframe\">\n  <thead>\n    <tr style=\"text-align: right;\">\n      <th></th>\n      <th>station</th>\n      <th>date</th>\n      <th>prcp</th>\n      <th>tobs</th>\n    </tr>\n  </thead>\n  <tbody>\n    <tr>\n      <th>133</th>\n      <td>USC00519397</td>\n      <td>2010-06-01</td>\n      <td>0.00</td>\n      <td>78</td>\n    </tr>\n    <tr>\n      <th>134</th>\n      <td>USC00519397</td>\n      <td>2010-06-02</td>\n      <td>0.01</td>\n      <td>76</td>\n    </tr>\n    <tr>\n      <th>135</th>\n      <td>USC00519397</td>\n      <td>2010-06-03</td>\n      <td>0.00</td>\n      <td>78</td>\n    </tr>\n    <tr>\n      <th>136</th>\n      <td>USC00519397</td>\n      <td>2010-06-04</td>\n      <td>0.00</td>\n      <td>76</td>\n    </tr>\n    <tr>\n      <th>137</th>\n      <td>USC00519397</td>\n      <td>2010-06-05</td>\n      <td>0.00</td>\n      <td>77</td>\n    </tr>\n    <tr>\n      <th>138</th>\n      <td>USC00519397</td>\n      <td>2010-06-06</td>\n      <td>0.00</td>\n      <td>78</td>\n    </tr>\n    <tr>\n      <th>139</th>\n      <td>USC00519397</td>\n      <td>2010-06-07</td>\n      <td>0.00</td>\n      <td>77</td>\n    </tr>\n    <tr>\n      <th>140</th>\n      <td>USC00519397</td>\n      <td>2010-06-08</td>\n      <td>0.00</td>\n      <td>78</td>\n    </tr>\n    <tr>\n      <th>141</th>\n      <td>USC00519397</td>\n      <td>2010-06-09</td>\n      <td>0.00</td>\n      <td>78</td>\n    </tr>\n    <tr>\n      <th>142</th>\n      <td>USC00519397</td>\n      <td>2010-06-10</td>\n      <td>0.00</td>\n      <td>79</td>\n    </tr>\n    <tr>\n      <th>143</th>\n      <td>USC00519397</td>\n      <td>2010-06-11</td>\n      <td>0.00</td>\n      <td>78</td>\n    </tr>\n    <tr>\n      <th>144</th>\n      <td>USC00519397</td>\n      <td>2010-06-12</td>\n      <td>0.00</td>\n      <td>78</td>\n    </tr>\n    <tr>\n      <th>145</th>\n      <td>USC00519397</td>\n      <td>2010-06-13</td>\n      <td>0.00</td>\n      <td>78</td>\n    </tr>\n    <tr>\n      <th>146</th>\n      <td>USC00519397</td>\n      <td>2010-06-14</td>\n      <td>0.00</td>\n      <td>77</td>\n    </tr>\n    <tr>\n      <th>147</th>\n      <td>USC00519397</td>\n      <td>2010-06-15</td>\n      <td>0.00</td>\n      <td>78</td>\n    </tr>\n    <tr>\n      <th>148</th>\n      <td>USC00519397</td>\n      <td>2010-06-16</td>\n      <td>0.00</td>\n      <td>78</td>\n    </tr>\n    <tr>\n      <th>149</th>\n      <td>USC00519397</td>\n      <td>2010-06-17</td>\n      <td>0.00</td>\n      <td>77</td>\n    </tr>\n    <tr>\n      <th>150</th>\n      <td>USC00519397</td>\n      <td>2010-06-18</td>\n      <td>0.00</td>\n      <td>77</td>\n    </tr>\n    <tr>\n      <th>151</th>\n      <td>USC00519397</td>\n      <td>2010-06-19</td>\n      <td>0.00</td>\n      <td>82</td>\n    </tr>\n    <tr>\n      <th>152</th>\n      <td>USC00519397</td>\n      <td>2010-06-20</td>\n      <td>0.00</td>\n      <td>78</td>\n    </tr>\n    <tr>\n      <th>153</th>\n      <td>USC00519397</td>\n      <td>2010-06-21</td>\n      <td>0.00</td>\n      <td>78</td>\n    </tr>\n    <tr>\n      <th>154</th>\n      <td>USC00519397</td>\n      <td>2010-06-22</td>\n      <td>0.00</td>\n      <td>78</td>\n    </tr>\n    <tr>\n      <th>155</th>\n      <td>USC00519397</td>\n      <td>2010-06-23</td>\n      <td>0.00</td>\n      <td>78</td>\n    </tr>\n    <tr>\n      <th>156</th>\n      <td>USC00519397</td>\n      <td>2010-06-24</td>\n      <td>0.00</td>\n      <td>78</td>\n    </tr>\n    <tr>\n      <th>157</th>\n      <td>USC00519397</td>\n      <td>2010-06-25</td>\n      <td>0.00</td>\n      <td>77</td>\n    </tr>\n    <tr>\n      <th>158</th>\n      <td>USC00519397</td>\n      <td>2010-06-26</td>\n      <td>0.02</td>\n      <td>76</td>\n    </tr>\n    <tr>\n      <th>159</th>\n      <td>USC00519397</td>\n      <td>2010-06-27</td>\n      <td>0.00</td>\n      <td>78</td>\n    </tr>\n    <tr>\n      <th>160</th>\n      <td>USC00519397</td>\n      <td>2010-06-28</td>\n      <td>0.00</td>\n      <td>78</td>\n    </tr>\n    <tr>\n      <th>161</th>\n      <td>USC00519397</td>\n      <td>2010-06-29</td>\n      <td>0.00</td>\n      <td>78</td>\n    </tr>\n    <tr>\n      <th>162</th>\n      <td>USC00519397</td>\n      <td>2010-06-30</td>\n      <td>0.00</td>\n      <td>78</td>\n    </tr>\n  </tbody>\n</table>\n</div>"
     },
     "metadata": {},
     "execution_count": 6
    }
   ],
   "source": [
    "# Filter data for desired months\n",
    "\n",
    "june_df = df[df['date'].dt.month == 6]\n",
    "june_df.head(30)\n"
   ]
  },
  {
   "cell_type": "code",
   "execution_count": 13,
   "metadata": {},
   "outputs": [
    {
     "output_type": "execute_result",
     "data": {
      "text/plain": [
       "         station       date  prcp  tobs\n",
       "305  USC00519397 2010-12-01  0.04    76\n",
       "306  USC00519397 2010-12-03  0.00    74\n",
       "307  USC00519397 2010-12-04  0.00    74\n",
       "308  USC00519397 2010-12-06  0.00    64\n",
       "309  USC00519397 2010-12-07  0.00    64\n",
       "310  USC00519397 2010-12-08  0.00    67\n",
       "311  USC00519397 2010-12-09  0.00    77\n",
       "312  USC00519397 2010-12-10  1.58    66\n",
       "313  USC00519397 2010-12-11  0.77    69\n",
       "314  USC00519397 2010-12-12  0.00    68\n",
       "315  USC00519397 2010-12-13  0.00    68\n",
       "316  USC00519397 2010-12-14  0.00    71\n",
       "317  USC00519397 2010-12-15  0.00    74\n",
       "318  USC00519397 2010-12-16  0.00    67\n",
       "319  USC00519397 2010-12-17  0.00    66\n",
       "320  USC00519397 2010-12-18  0.00    69\n",
       "321  USC00519397 2010-12-19  1.40    71\n",
       "322  USC00519397 2010-12-23  0.00    70\n",
       "323  USC00519397 2010-12-24  0.00    70\n",
       "324  USC00519397 2010-12-26   NaN    74\n",
       "325  USC00519397 2010-12-27  0.13    74\n",
       "326  USC00519397 2010-12-28  0.55    71\n",
       "327  USC00519397 2010-12-29  0.06    75\n",
       "328  USC00519397 2010-12-30  0.01    75\n",
       "329  USC00519397 2010-12-31  0.00    72\n",
       "643  USC00519397 2011-12-01  0.03    69\n",
       "644  USC00519397 2011-12-02  0.08    68\n",
       "645  USC00519397 2011-12-03  0.00    73\n",
       "646  USC00519397 2011-12-04  0.00    74\n",
       "647  USC00519397 2011-12-05  0.00    73"
      ],
      "text/html": "<div>\n<style scoped>\n    .dataframe tbody tr th:only-of-type {\n        vertical-align: middle;\n    }\n\n    .dataframe tbody tr th {\n        vertical-align: top;\n    }\n\n    .dataframe thead th {\n        text-align: right;\n    }\n</style>\n<table border=\"1\" class=\"dataframe\">\n  <thead>\n    <tr style=\"text-align: right;\">\n      <th></th>\n      <th>station</th>\n      <th>date</th>\n      <th>prcp</th>\n      <th>tobs</th>\n    </tr>\n  </thead>\n  <tbody>\n    <tr>\n      <th>305</th>\n      <td>USC00519397</td>\n      <td>2010-12-01</td>\n      <td>0.04</td>\n      <td>76</td>\n    </tr>\n    <tr>\n      <th>306</th>\n      <td>USC00519397</td>\n      <td>2010-12-03</td>\n      <td>0.00</td>\n      <td>74</td>\n    </tr>\n    <tr>\n      <th>307</th>\n      <td>USC00519397</td>\n      <td>2010-12-04</td>\n      <td>0.00</td>\n      <td>74</td>\n    </tr>\n    <tr>\n      <th>308</th>\n      <td>USC00519397</td>\n      <td>2010-12-06</td>\n      <td>0.00</td>\n      <td>64</td>\n    </tr>\n    <tr>\n      <th>309</th>\n      <td>USC00519397</td>\n      <td>2010-12-07</td>\n      <td>0.00</td>\n      <td>64</td>\n    </tr>\n    <tr>\n      <th>310</th>\n      <td>USC00519397</td>\n      <td>2010-12-08</td>\n      <td>0.00</td>\n      <td>67</td>\n    </tr>\n    <tr>\n      <th>311</th>\n      <td>USC00519397</td>\n      <td>2010-12-09</td>\n      <td>0.00</td>\n      <td>77</td>\n    </tr>\n    <tr>\n      <th>312</th>\n      <td>USC00519397</td>\n      <td>2010-12-10</td>\n      <td>1.58</td>\n      <td>66</td>\n    </tr>\n    <tr>\n      <th>313</th>\n      <td>USC00519397</td>\n      <td>2010-12-11</td>\n      <td>0.77</td>\n      <td>69</td>\n    </tr>\n    <tr>\n      <th>314</th>\n      <td>USC00519397</td>\n      <td>2010-12-12</td>\n      <td>0.00</td>\n      <td>68</td>\n    </tr>\n    <tr>\n      <th>315</th>\n      <td>USC00519397</td>\n      <td>2010-12-13</td>\n      <td>0.00</td>\n      <td>68</td>\n    </tr>\n    <tr>\n      <th>316</th>\n      <td>USC00519397</td>\n      <td>2010-12-14</td>\n      <td>0.00</td>\n      <td>71</td>\n    </tr>\n    <tr>\n      <th>317</th>\n      <td>USC00519397</td>\n      <td>2010-12-15</td>\n      <td>0.00</td>\n      <td>74</td>\n    </tr>\n    <tr>\n      <th>318</th>\n      <td>USC00519397</td>\n      <td>2010-12-16</td>\n      <td>0.00</td>\n      <td>67</td>\n    </tr>\n    <tr>\n      <th>319</th>\n      <td>USC00519397</td>\n      <td>2010-12-17</td>\n      <td>0.00</td>\n      <td>66</td>\n    </tr>\n    <tr>\n      <th>320</th>\n      <td>USC00519397</td>\n      <td>2010-12-18</td>\n      <td>0.00</td>\n      <td>69</td>\n    </tr>\n    <tr>\n      <th>321</th>\n      <td>USC00519397</td>\n      <td>2010-12-19</td>\n      <td>1.40</td>\n      <td>71</td>\n    </tr>\n    <tr>\n      <th>322</th>\n      <td>USC00519397</td>\n      <td>2010-12-23</td>\n      <td>0.00</td>\n      <td>70</td>\n    </tr>\n    <tr>\n      <th>323</th>\n      <td>USC00519397</td>\n      <td>2010-12-24</td>\n      <td>0.00</td>\n      <td>70</td>\n    </tr>\n    <tr>\n      <th>324</th>\n      <td>USC00519397</td>\n      <td>2010-12-26</td>\n      <td>NaN</td>\n      <td>74</td>\n    </tr>\n    <tr>\n      <th>325</th>\n      <td>USC00519397</td>\n      <td>2010-12-27</td>\n      <td>0.13</td>\n      <td>74</td>\n    </tr>\n    <tr>\n      <th>326</th>\n      <td>USC00519397</td>\n      <td>2010-12-28</td>\n      <td>0.55</td>\n      <td>71</td>\n    </tr>\n    <tr>\n      <th>327</th>\n      <td>USC00519397</td>\n      <td>2010-12-29</td>\n      <td>0.06</td>\n      <td>75</td>\n    </tr>\n    <tr>\n      <th>328</th>\n      <td>USC00519397</td>\n      <td>2010-12-30</td>\n      <td>0.01</td>\n      <td>75</td>\n    </tr>\n    <tr>\n      <th>329</th>\n      <td>USC00519397</td>\n      <td>2010-12-31</td>\n      <td>0.00</td>\n      <td>72</td>\n    </tr>\n    <tr>\n      <th>643</th>\n      <td>USC00519397</td>\n      <td>2011-12-01</td>\n      <td>0.03</td>\n      <td>69</td>\n    </tr>\n    <tr>\n      <th>644</th>\n      <td>USC00519397</td>\n      <td>2011-12-02</td>\n      <td>0.08</td>\n      <td>68</td>\n    </tr>\n    <tr>\n      <th>645</th>\n      <td>USC00519397</td>\n      <td>2011-12-03</td>\n      <td>0.00</td>\n      <td>73</td>\n    </tr>\n    <tr>\n      <th>646</th>\n      <td>USC00519397</td>\n      <td>2011-12-04</td>\n      <td>0.00</td>\n      <td>74</td>\n    </tr>\n    <tr>\n      <th>647</th>\n      <td>USC00519397</td>\n      <td>2011-12-05</td>\n      <td>0.00</td>\n      <td>73</td>\n    </tr>\n  </tbody>\n</table>\n</div>"
     },
     "metadata": {},
     "execution_count": 13
    }
   ],
   "source": [
    "dec_df = df[df['date'].dt.month == 12]\n",
    "dec_df.head(30)"
   ]
  },
  {
   "cell_type": "code",
   "execution_count": 15,
   "metadata": {},
   "outputs": [
    {
     "output_type": "stream",
     "name": "stderr",
     "text": [
      "ic| round(avg_june,2): 74.94\n",
      "ic| round(avg_dec,2): 71.04\n"
     ]
    },
    {
     "output_type": "execute_result",
     "data": {
      "text/plain": [
       "71.04"
      ]
     },
     "metadata": {},
     "execution_count": 15
    }
   ],
   "source": [
    "from icecream import ic\n",
    "# Identify the average temperature for June\n",
    "avg_june = june_df['tobs'].mean()\n",
    "ic(round(avg_june,2))\n",
    "\n",
    "avg_dec = dec_df['tobs'].mean()\n",
    "ic(round(avg_dec,2))\n"
   ]
  },
  {
   "cell_type": "code",
   "execution_count": null,
   "metadata": {},
   "outputs": [],
   "source": [
    "# Identify the average temperature for December"
   ]
  },
  {
   "cell_type": "code",
   "execution_count": null,
   "metadata": {},
   "outputs": [],
   "source": [
    "# Create collections of temperature data"
   ]
  },
  {
   "cell_type": "code",
   "execution_count": null,
   "metadata": {},
   "outputs": [],
   "source": [
    "# Run paired t-test"
   ]
  },
  {
   "cell_type": "markdown",
   "metadata": {},
   "source": [
    "### Analysis"
   ]
  },
  {
   "cell_type": "code",
   "execution_count": null,
   "metadata": {},
   "outputs": [],
   "source": []
  }
 ],
 "metadata": {
  "kernelspec": {
   "name": "python379jvsc74a57bd0e3896c66a75c41725fea970d0c2a2982cf91def990c8dcb709e7b9c0cc3a398d",
   "display_name": "Python 3.7.9 64-bit ('PythonData': conda)"
  },
  "language_info": {
   "codemirror_mode": {
    "name": "ipython",
    "version": 3
   },
   "file_extension": ".py",
   "mimetype": "text/x-python",
   "name": "python",
   "nbconvert_exporter": "python",
   "pygments_lexer": "ipython3",
   "version": "3.7.9"
  }
 },
 "nbformat": 4,
 "nbformat_minor": 4
}